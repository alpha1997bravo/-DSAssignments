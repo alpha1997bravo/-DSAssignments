{
 "cells": [
  {
   "cell_type": "code",
   "execution_count": 1,
   "id": "7f36b7fe",
   "metadata": {},
   "outputs": [],
   "source": [
    "import numpy as np"
   ]
  },
  {
   "cell_type": "code",
   "execution_count": 2,
   "id": "157396b7",
   "metadata": {},
   "outputs": [],
   "source": [
    "scores = [34,36,36,38,38,39,39,40,40,41,41,41,41,42,42,45,49,56]"
   ]
  },
  {
   "cell_type": "code",
   "execution_count": 3,
   "id": "c0903268",
   "metadata": {},
   "outputs": [],
   "source": [
    "# Calculate mean\n",
    "mean = np.mean(scores)\n",
    "\n",
    "# Calculate median\n",
    "median = np.median(scores)\n",
    "\n",
    "# Calculate variance\n",
    "variance = np.var(scores)\n",
    "\n",
    "# Calculate standard deviation\n",
    "std_dev = np.std(scores)"
   ]
  },
  {
   "cell_type": "code",
   "execution_count": 4,
   "id": "5a7eff3e",
   "metadata": {},
   "outputs": [
    {
     "name": "stdout",
     "output_type": "stream",
     "text": [
      "Mean: 41.0\n",
      "Median: 40.5\n",
      "Variance: 24.11111111111111\n",
      "Standard Deviation: 4.910306620885412\n"
     ]
    }
   ],
   "source": [
    "print(\"Mean:\", mean)\n",
    "print(\"Median:\", median)\n",
    "print(\"Variance:\", variance)\n",
    "print(\"Standard Deviation:\", std_dev)"
   ]
  },
  {
   "cell_type": "code",
   "execution_count": 7,
   "id": "3e5e6fc4",
   "metadata": {},
   "outputs": [
    {
     "ename": "SyntaxError",
     "evalue": "unterminated string literal (detected at line 5) (2695206962.py, line 5)",
     "output_type": "error",
     "traceback": [
      "\u001b[1;36m  Cell \u001b[1;32mIn[7], line 5\u001b[1;36m\u001b[0m\n\u001b[1;33m    This could indicate variability in the student's performance.\u001b[0m\n\u001b[1;37m                                                  ^\u001b[0m\n\u001b[1;31mSyntaxError\u001b[0m\u001b[1;31m:\u001b[0m unterminated string literal (detected at line 5)\n"
     ]
    }
   ],
   "source": [
    "Interpretation and Analysis:\n",
    "\n",
    "The mean and median are fairly close, indicating that the distribution is not significantly skewed.\n",
    "The variance and standard deviation values are relatively high, suggesting that the scores are spread out from the mean.\n",
    "This could indicate variability in the student's performance.\n",
    "The range between the minimum (34) and maximum (56) scores is considerable, further supporting the idea of variability.\n",
    "Based on these measures, we can say that the student's marks are somewhat spread out, with a relatively higher \n",
    "standard deviation suggesting variability. The presence of higher scores like 56 and the relatively lower scores \n",
    "like 34 might indicate that the student's performance varies across different tests. \n",
    "Further analysis might be needed to understand the factors contributing to this variability."
   ]
  },
  {
   "cell_type": "code",
   "execution_count": 8,
   "id": "e6cca138",
   "metadata": {},
   "outputs": [
    {
     "name": "stdout",
     "output_type": "stream",
     "text": [
      "94% Confidence Interval:\n",
      "Lower Bound: 198.74 pounds\n",
      "Upper Bound: 201.26 pounds\n",
      "\n",
      "98% Confidence Interval:\n",
      "Lower Bound: 198.44 pounds\n",
      "Upper Bound: 201.56 pounds\n",
      "\n",
      "96% Confidence Interval:\n",
      "Lower Bound: 198.62 pounds\n",
      "Upper Bound: 201.38 pounds\n",
      "\n"
     ]
    }
   ],
   "source": [
    "import scipy.stats as stats\n",
    "\n",
    "# Given data\n",
    "sample_mean = 200  # Sample mean\n",
    "sample_std_dev = 30  # Sample standard deviation\n",
    "sample_size = 2000  # Sample size\n",
    "\n",
    "# Confidence levels\n",
    "confidence_levels = [0.94, 0.98, 0.96]\n",
    "\n",
    "for confidence_level in confidence_levels:\n",
    "    # Find the critical value using the z-distribution\n",
    "    critical_value = stats.norm.ppf(1 - (1 - confidence_level) / 2)\n",
    "\n",
    "    # Calculate the margin of error\n",
    "    margin_of_error = critical_value * (sample_std_dev / (sample_size ** 0.5))\n",
    "\n",
    "    # Calculate the confidence interval\n",
    "    lower_bound = sample_mean - margin_of_error\n",
    "    upper_bound = sample_mean + margin_of_error\n",
    "\n",
    "    print(f\"{int(confidence_level * 100)}% Confidence Interval:\")\n",
    "    print(f\"Lower Bound: {lower_bound:.2f} pounds\")\n",
    "    print(f\"Upper Bound: {upper_bound:.2f} pounds\\n\")\n",
    "\n",
    "    "
   ]
  },
  {
   "cell_type": "code",
   "execution_count": 9,
   "id": "8d651c14",
   "metadata": {},
   "outputs": [
    {
     "data": {
      "text/plain": [
       "2.0537489106318225"
      ]
     },
     "execution_count": 9,
     "metadata": {},
     "output_type": "execute_result"
    }
   ],
   "source": [
    "critical_value"
   ]
  },
  {
   "cell_type": "code",
   "execution_count": 10,
   "id": "7b48a2e5",
   "metadata": {},
   "outputs": [],
   "source": [
    "import pandas as pd\n",
    "import scipy.stats as stats\n"
   ]
  },
  {
   "cell_type": "code",
   "execution_count": 11,
   "id": "774073cf",
   "metadata": {},
   "outputs": [],
   "source": [
    "#Import the data/load data"
   ]
  },
  {
   "cell_type": "code",
   "execution_count": 16,
   "id": "f4185f97",
   "metadata": {},
   "outputs": [],
   "source": [
    "data=pd.read_csv('Cars (1).csv')"
   ]
  },
  {
   "cell_type": "code",
   "execution_count": 17,
   "id": "ee6204f4",
   "metadata": {},
   "outputs": [],
   "source": [
    "# Extract the MPG column\n",
    "MPG_data = data['MPG']\n"
   ]
  },
  {
   "cell_type": "code",
   "execution_count": 19,
   "id": "410a212e",
   "metadata": {},
   "outputs": [
    {
     "name": "stdout",
     "output_type": "stream",
     "text": [
      "P(MPG > 38): 0.4074\n",
      "P(MPG < 40): 0.7531\n",
      "P(20 < MPG < 50): 0.8519\n"
     ]
    }
   ],
   "source": [
    "# Calculate the probabilities using the CDF\n",
    "prob_MPG_gt_38 = 1 - stats.percentileofscore(MPG_data, 38) / 100\n",
    "prob_MPG_lt_40 = stats.percentileofscore(MPG_data, 40) / 100\n",
    "prob_MPG_between_20_50 = (stats.percentileofscore(MPG_data, 50) - stats.percentileofscore(MPG_data, 20)) / 100\n",
    "\n",
    "\n",
    "# Print the probabilities\n",
    "print(f\"P(MPG > 38): {prob_MPG_gt_38:.4f}\")\n",
    "print(f\"P(MPG < 40): {prob_MPG_lt_40:.4f}\")\n",
    "print(f\"P(20 < MPG < 50): {prob_MPG_between_20_50:.4f}\")"
   ]
  },
  {
   "cell_type": "code",
   "execution_count": 21,
   "id": "c277f2d9",
   "metadata": {},
   "outputs": [
    {
     "data": {
      "text/html": [
       "<div>\n",
       "<style scoped>\n",
       "    .dataframe tbody tr th:only-of-type {\n",
       "        vertical-align: middle;\n",
       "    }\n",
       "\n",
       "    .dataframe tbody tr th {\n",
       "        vertical-align: top;\n",
       "    }\n",
       "\n",
       "    .dataframe thead th {\n",
       "        text-align: right;\n",
       "    }\n",
       "</style>\n",
       "<table border=\"1\" class=\"dataframe\">\n",
       "  <thead>\n",
       "    <tr style=\"text-align: right;\">\n",
       "      <th></th>\n",
       "      <th>HP</th>\n",
       "      <th>MPG</th>\n",
       "      <th>VOL</th>\n",
       "      <th>SP</th>\n",
       "      <th>WT</th>\n",
       "    </tr>\n",
       "  </thead>\n",
       "  <tbody>\n",
       "    <tr>\n",
       "      <th>0</th>\n",
       "      <td>49</td>\n",
       "      <td>53.700681</td>\n",
       "      <td>89</td>\n",
       "      <td>104.185353</td>\n",
       "      <td>28.762059</td>\n",
       "    </tr>\n",
       "    <tr>\n",
       "      <th>1</th>\n",
       "      <td>55</td>\n",
       "      <td>50.013401</td>\n",
       "      <td>92</td>\n",
       "      <td>105.461264</td>\n",
       "      <td>30.466833</td>\n",
       "    </tr>\n",
       "    <tr>\n",
       "      <th>2</th>\n",
       "      <td>55</td>\n",
       "      <td>50.013401</td>\n",
       "      <td>92</td>\n",
       "      <td>105.461264</td>\n",
       "      <td>30.193597</td>\n",
       "    </tr>\n",
       "    <tr>\n",
       "      <th>3</th>\n",
       "      <td>70</td>\n",
       "      <td>45.696322</td>\n",
       "      <td>92</td>\n",
       "      <td>113.461264</td>\n",
       "      <td>30.632114</td>\n",
       "    </tr>\n",
       "    <tr>\n",
       "      <th>4</th>\n",
       "      <td>53</td>\n",
       "      <td>50.504232</td>\n",
       "      <td>92</td>\n",
       "      <td>104.461264</td>\n",
       "      <td>29.889149</td>\n",
       "    </tr>\n",
       "  </tbody>\n",
       "</table>\n",
       "</div>"
      ],
      "text/plain": [
       "   HP        MPG  VOL          SP         WT\n",
       "0  49  53.700681   89  104.185353  28.762059\n",
       "1  55  50.013401   92  105.461264  30.466833\n",
       "2  55  50.013401   92  105.461264  30.193597\n",
       "3  70  45.696322   92  113.461264  30.632114\n",
       "4  53  50.504232   92  104.461264  29.889149"
      ]
     },
     "execution_count": 21,
     "metadata": {},
     "output_type": "execute_result"
    }
   ],
   "source": [
    "data.head()"
   ]
  },
  {
   "cell_type": "code",
   "execution_count": 22,
   "id": "0a8a1321",
   "metadata": {},
   "outputs": [],
   "source": [
    "import matplotlib.pyplot as plt\n",
    "import seaborn as sns"
   ]
  },
  {
   "cell_type": "code",
   "execution_count": 24,
   "id": "07605802",
   "metadata": {},
   "outputs": [
    {
     "data": {
      "text/plain": [
       "<Axes: xlabel='MPG', ylabel='Count'>"
      ]
     },
     "execution_count": 24,
     "metadata": {},
     "output_type": "execute_result"
    },
    {
     "data": {
      "image/png": "[encoded data removed]",
      "text/plain": [
       "<Figure size 640x480 with 1 Axes>"
      ]
     },
     "metadata": {},
     "output_type": "display_data"
    }
   ],
   "source": [
    "sns.histplot(data = data, x='MPG', kde=True, color='green')"
   ]
  },
  {
   "cell_type": "code",
   "execution_count": null,
   "id": "975e910b",
   "metadata": {},
   "outputs": [],
   "source": [
    ","
   ]
  }
 ],
 "metadata": {
  "kernelspec": {
   "display_name": "Python 3 (ipykernel)",
   "language": "python",
   "name": "python3"
  },
  "language_info": {
   "codemirror_mode": {
    "name": "ipython",
    "version": 3
   },
   "file_extension": ".py",
   "mimetype": "text/x-python",
   "name": "python",
   "nbconvert_exporter": "python",
   "pygments_lexer": "ipython3",
   "version": "3.10.9"
  }
 },
 "nbformat": 4,
 "nbformat_minor": 5
}
