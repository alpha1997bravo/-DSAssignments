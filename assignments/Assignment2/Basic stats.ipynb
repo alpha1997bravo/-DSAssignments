{
 "cells": [
  {
   "cell_type": "code",
   "execution_count": 3,
   "id": "c8b7ae69",
   "metadata": {},
   "outputs": [],
   "source": [
    "from scipy.stats import norm\n",
    "import numpy as np"
   ]
  },
  {
   "cell_type": "markdown",
   "id": "251dfbf5",
   "metadata": {},
   "source": [
    "### calculate probability that random value is less than 1.96 in normal CDF\n"
   ]
  },
  {
   "cell_type": "code",
   "execution_count": 4,
   "id": "6ed4664c",
   "metadata": {},
   "outputs": [
    {
     "data": {
      "text/plain": [
       "0.09175913565028077"
      ]
     },
     "execution_count": 4,
     "metadata": {},
     "output_type": "execute_result"
    }
   ],
   "source": [
    "norm.cdf(-1.33)"
   ]
  },
  {
   "cell_type": "code",
   "execution_count": 5,
   "id": "c93af314",
   "metadata": {},
   "outputs": [],
   "source": [
    "# Given data in percentage"
   ]
  },
  {
   "cell_type": "code",
   "execution_count": 6,
   "id": "a2d1751e",
   "metadata": {},
   "outputs": [],
   "source": [
    "data = np.array([24.23, 25.53, 25.41, 24.14, 29.62, 28.25, 25.81, 24.39, 40.26,\n",
    "                 32.95, 91.36, 25.99, 39.42, 26.71, 35.00])"
   ]
  },
  {
   "cell_type": "markdown",
   "id": "49469d8a",
   "metadata": {},
   "source": [
    "###### convert percentage to decimal"
   ]
  },
  {
   "cell_type": "code",
   "execution_count": 8,
   "id": "d06f3488",
   "metadata": {},
   "outputs": [],
   "source": [
    "data=data/100"
   ]
  },
  {
   "cell_type": "markdown",
   "id": "07ea4ce8",
   "metadata": {},
   "source": [
    "######  Calculate mean (μ), standard deviation (σ), and variance (σ^2)"
   ]
  },
  {
   "cell_type": "code",
   "execution_count": 14,
   "id": "ce6147dc",
   "metadata": {},
   "outputs": [
    {
     "name": "stdout",
     "output_type": "stream",
     "text": [
      "mean: 0.3327133333333333\n",
      "standard deviation: 0.16370812590976933\n",
      "variance: 0.026800350488888885\n"
     ]
    }
   ],
   "source": [
    "mean=np.mean(data)\n",
    "std_dev=np.std(data)\n",
    "variance=np.var(data)\n",
    "\n",
    "print(\"mean:\", mean)\n",
    "print(\"standard deviation:\", std_dev)\n",
    "print(\"variance:\",variance)"
   ]
  },
  {
   "cell_type": "markdown",
   "id": "405282fe",
   "metadata": {},
   "source": [
    "###### Calculate the IQR"
   ]
  },
  {
   "cell_type": "code",
   "execution_count": 15,
   "id": "40573e78",
   "metadata": {},
   "outputs": [
    {
     "name": "stdout",
     "output_type": "stream",
     "text": [
      "Outliers: [0.9136]\n"
     ]
    }
   ],
   "source": [
    "Q1= np.percentile(data,25)\n",
    "Q3=np.percentile(data,75)\n",
    "IQR= Q3-Q1\n",
    "\n",
    "\n",
    "# Calculate the lower and upper bounds for outliers\n",
    "lower_bound = Q1 - 1.5 * IQR\n",
    "upper_bound = Q3 + 1.5 * IQR\n",
    "\n",
    "# Identify outliers\n",
    "outliers = data[(data < lower_bound) | (data > upper_bound)]\n",
    "\n",
    "print(\"Outliers:\", outliers)"
   ]
  },
  {
   "cell_type": "code",
   "execution_count": null,
   "id": "67998aca",
   "metadata": {},
   "outputs": [],
   "source": []
  }
 ],
 "metadata": {
  "kernelspec": {
   "display_name": "Python 3 (ipykernel)",
   "language": "python",
   "name": "python3"
  },
  "language_info": {
   "codemirror_mode": {
    "name": "ipython",
    "version": 3
   },
   "file_extension": ".py",
   "mimetype": "text/x-python",
   "name": "python",
   "nbconvert_exporter": "python",
   "pygments_lexer": "ipython3",
   "version": "3.10.9"
  }
 },
 "nbformat": 4,
 "nbformat_minor": 5
}
