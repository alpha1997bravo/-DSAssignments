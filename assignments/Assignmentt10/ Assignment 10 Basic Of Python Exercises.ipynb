{
 "cells": [
  {
   "cell_type": "markdown",
   "id": "045146bf",
   "metadata": {},
   "source": [
    "# PYTHON PROGRAMMING ASSIGNMENT"
   ]
  },
  {
   "cell_type": "markdown",
   "id": "b338dcd0",
   "metadata": {},
   "source": [
    "### Exercise 1: Prime Numbers"
   ]
  },
  {
   "cell_type": "markdown",
   "id": "5610f6ca",
   "metadata": {},
   "source": [
    "###### Write a Python program that checks whether a given number is prime or not. A prime number is a natural number greater than 1 that has no positive divisors other than 1 and itself."
   ]
  },
  {
   "cell_type": "code",
   "execution_count": 11,
   "id": "b1ca5a1a",
   "metadata": {},
   "outputs": [
    {
     "name": "stdout",
     "output_type": "stream",
     "text": [
      "Enter a number to check if it's prime: 3\n",
      "Prime Number\n"
     ]
    }
   ],
   "source": [
    "def is_prime(number):\n",
    "    if number <= 1:\n",
    "        return False\n",
    "    for i in range(2, int(number**0.5) + 1):\n",
    "        if number % i == 0:\n",
    "            return False\n",
    "    return True\n",
    "\n",
    "number = int(input(\"Enter a number to check if it's prime: \"))\n",
    "if is_prime(number):\n",
    "    print(\"Prime Number\")\n",
    "else:\n",
    "    print(\"Not Prime Number\")\n"
   ]
  },
  {
   "cell_type": "code",
   "execution_count": 12,
   "id": "4a1f62ad",
   "metadata": {},
   "outputs": [
    {
     "name": "stdout",
     "output_type": "stream",
     "text": [
      "Enter a number to check if it's prime: 10\n",
      "Not Prime Number\n"
     ]
    }
   ],
   "source": [
    "def is_prime(number):\n",
    "    if number <= 1:\n",
    "        return False\n",
    "    for i in range(2, int(number**0.5) + 1):\n",
    "        if number % i == 0:\n",
    "            return False\n",
    "    return True\n",
    "\n",
    "number = int(input(\"Enter a number to check if it's prime: \"))\n",
    "if is_prime(number):\n",
    "    print(\"Prime Number\")\n",
    "else:\n",
    "    print(\"Not Prime Number\")\n"
   ]
  },
  {
   "cell_type": "markdown",
   "id": "caf3a1b7",
   "metadata": {},
   "source": [
    "### Exercise 2: Product of Random Numbers\n",
    "\n",
    "###### Develop a Python program that generates two random numbers and asks the user to enter the product of these numbers. The program should then check if the user's answer is correct and display an appropriate message."
   ]
  },
  {
   "cell_type": "code",
   "execution_count": 14,
   "id": "9b2f52a6",
   "metadata": {},
   "outputs": [
    {
     "name": "stdout",
     "output_type": "stream",
     "text": [
      "What is the product of 6 and 8? 48\n",
      "Correct! Well done.\n"
     ]
    }
   ],
   "source": [
    "import random\n",
    "\n",
    "def generate_numbers():\n",
    "    num1 = random.randint(1, 10)\n",
    "    num2 = random.randint(1, 10)\n",
    "    return num1, num2\n",
    "\n",
    "def main():\n",
    "    num1, num2 = generate_numbers()\n",
    "    product = num1 * num2\n",
    "\n",
    "    user_answer = int(input(f\"What is the product of {num1} and {num2}? \"))\n",
    "\n",
    "    if user_answer == product:\n",
    "        print(\"Correct! Well done.\")\n",
    "    else:\n",
    "        print(f\"Oops! The correct answer is {product}.\")\n",
    "\n",
    "if __name__ == \"__main__\":\n",
    "    main()\n"
   ]
  },
  {
   "cell_type": "code",
   "execution_count": 15,
   "id": "f62b7162",
   "metadata": {},
   "outputs": [
    {
     "name": "stdout",
     "output_type": "stream",
     "text": [
      "What is the product of 7 and 9? 60\n",
      "Oops! The correct answer is 63.\n"
     ]
    }
   ],
   "source": [
    "import random\n",
    "\n",
    "def generate_numbers():\n",
    "    num1 = random.randint(1, 10)\n",
    "    num2 = random.randint(1, 10)\n",
    "    return num1, num2\n",
    "\n",
    "def main():\n",
    "    num1, num2 = generate_numbers()\n",
    "    product = num1 * num2\n",
    "\n",
    "    user_answer = int(input(f\"What is the product of {num1} and {num2}? \"))\n",
    "\n",
    "    if user_answer == product:\n",
    "        print(\"Correct! Well done.\")\n",
    "    else:\n",
    "        print(f\"Oops! The correct answer is {product}.\")\n",
    "\n",
    "if __name__ == \"__main__\":\n",
    "    main()\n"
   ]
  },
  {
   "cell_type": "markdown",
   "id": "cb23a2c5",
   "metadata": {},
   "source": [
    "### Exercise 3: Squares of Even/Odd Numbers\n",
    "\n",
    "###### Create a Python script that prints the squares of all even or odd numbers within the range of 100 to 200. Choose either even or odd numbers and document your choice in the code.\n"
   ]
  },
  {
   "cell_type": "code",
   "execution_count": 1,
   "id": "b90b33fe",
   "metadata": {},
   "outputs": [
    {
     "name": "stdout",
     "output_type": "stream",
     "text": [
      "Squares of even numbers between 100 and 200:\n",
      "10000\n",
      "10404\n",
      "10816\n",
      "11236\n",
      "11664\n",
      "12100\n",
      "12544\n",
      "12996\n",
      "13456\n",
      "13924\n",
      "14400\n",
      "14884\n",
      "15376\n",
      "15876\n",
      "16384\n",
      "16900\n",
      "17424\n",
      "17956\n",
      "18496\n",
      "19044\n",
      "19600\n",
      "20164\n",
      "20736\n",
      "21316\n",
      "21904\n",
      "22500\n",
      "23104\n",
      "23716\n",
      "24336\n",
      "24964\n",
      "25600\n",
      "26244\n",
      "26896\n",
      "27556\n",
      "28224\n",
      "28900\n",
      "29584\n",
      "30276\n",
      "30976\n",
      "31684\n",
      "32400\n",
      "33124\n",
      "33856\n",
      "34596\n",
      "35344\n",
      "36100\n",
      "36864\n",
      "37636\n",
      "38416\n",
      "39204\n",
      "40000\n"
     ]
    }
   ],
   "source": [
    "# Chosen even numbers within the range of 100 to 200\n",
    "start = 100\n",
    "end = 200\n",
    "\n",
    "print(f\"Squares of even numbers between {start} and {end}:\")\n",
    "\n",
    "for num in range(start, end + 1):\n",
    "    if num % 2 == 0:\n",
    "        print(num ** 2)\n"
   ]
  },
  {
   "cell_type": "markdown",
   "id": "9e0593e8",
   "metadata": {},
   "source": [
    "### Exercise 4: Word counter\n",
    "\n",
    "###### write a program to count the number of words in a given text.\n",
    "###### example:\n",
    "###### input_text = \"This is a sample text. This text will be used to demonstrate the word counter.\"\n",
    "###### Expected output:\n",
    "###### 'This': 2 \n",
    "###### 'is': 1\n",
    "###### 'a': 1\n",
    "###### 'sample': 1\n",
    "###### 'text.': 1\n"
   ]
  },
  {
   "cell_type": "code",
   "execution_count": 2,
   "id": "e73b6b68",
   "metadata": {},
   "outputs": [
    {
     "name": "stdout",
     "output_type": "stream",
     "text": [
      "'this': 2\n",
      "'is': 1\n",
      "'a': 1\n",
      "'sample': 1\n",
      "'text': 2\n",
      "'will': 1\n",
      "'be': 1\n",
      "'used': 1\n",
      "'to': 1\n",
      "'demonstrate': 1\n",
      "'the': 1\n",
      "'word': 1\n",
      "'counter': 1\n"
     ]
    }
   ],
   "source": [
    "def count_words(input_text):\n",
    "    # Split the input text into words\n",
    "    words = input_text.split()\n",
    "\n",
    "    # Create a dictionary to store word counts\n",
    "    word_count = {}\n",
    "\n",
    "    # Count the occurrences of each word\n",
    "    for word in words:\n",
    "        # Remove punctuation marks from the word\n",
    "        word = word.strip(\".,!?\")\n",
    "        # Convert the word to lowercase to treat 'This' and 'this' as the same word\n",
    "        word = word.lower()\n",
    "        # Increment the count of the word in the dictionary\n",
    "        word_count[word] = word_count.get(word, 0) + 1\n",
    "\n",
    "    return word_count\n",
    "\n",
    "input_text = \"This is a sample text. This text will be used to demonstrate the word counter.\"\n",
    "word_counts = count_words(input_text)\n",
    "\n",
    "# Print the word counts\n",
    "for word, count in word_counts.items():\n",
    "    print(f\"'{word}': {count}\")\n"
   ]
  },
  {
   "cell_type": "markdown",
   "id": "9e3b58d0",
   "metadata": {},
   "source": [
    "### Exercise 5: Check for Palindrome\n",
    "\n",
    "###### Write a Python function called is_palindrome that takes a string as input and returns True if the string is a palindrome, and False otherwise. A palindrome is a word, phrase, number, or other sequence of characters that reads the same forward and backward, ignoring spaces, punctuation, and capitalization.\n"
   ]
  },
  {
   "cell_type": "code",
   "execution_count": 5,
   "id": "ca2b0221",
   "metadata": {},
   "outputs": [
    {
     "name": "stdout",
     "output_type": "stream",
     "text": [
      "True\n"
     ]
    }
   ],
   "source": [
    "def is_palindrome(input_str):\n",
    "    # Convert the string to lowercase and remove spaces and punctuation\n",
    "    input_str = input_str.lower()\n",
    "    input_str = ''.join(char for char in input_str if char.isalnum())\n",
    "\n",
    "    # Check if the string is equal to its reverse\n",
    "    return input_str == input_str[::-1]\n",
    "\n",
    "# Test the function\n",
    "input_str = \"racecar\"\n",
    "print(is_palindrome(input_str))  # Output: True\n"
   ]
  },
  {
   "cell_type": "code",
   "execution_count": null,
   "id": "adfb6420",
   "metadata": {},
   "outputs": [],
   "source": []
  }
 ],
 "metadata": {
  "kernelspec": {
   "display_name": "Python 3 (ipykernel)",
   "language": "python",
   "name": "python3"
  },
  "language_info": {
   "codemirror_mode": {
    "name": "ipython",
    "version": 3
   },
   "file_extension": ".py",
   "mimetype": "text/x-python",
   "name": "python",
   "nbconvert_exporter": "python",
   "pygments_lexer": "ipython3",
   "version": "3.10.9"
  }
 },
 "nbformat": 4,
 "nbformat_minor": 5
}
